{
 "cells": [
  {
   "cell_type": "code",
   "execution_count": 8,
   "metadata": {},
   "outputs": [],
   "source": [
    "import feedparser\n",
    "from pyler import Notification\n",
    "import time\n",
    "def parseFeed():\n",
    "\n",
    "  f= feedparser.parse("http://feeds.bbci.co.uk/news/rss.xml")\n",
    "  for newsitem in f['item']:\n",
    "     notification.notify(title = newsitem['title'], message = str(newsitem['summary']), timeout = 100, app_icon = "News.ico")\n",
    "\n",
    "  time.sleep(1200)\n",
    "if __name__=='__main__':\n",
    "  parseFeed()\n"
   ]
  },
  {
   "cell_type": "code",
   "execution_count": null,
   "metadata": {},
   "outputs": [],
   "source": []
  }
 ],
 "metadata": {
  "kernelspec": {
   "display_name": "Python 3",
   "language": "python",
   "name": "python3"
  },
  "language_info": {
   "codemirror_mode": {
    "name": "ipython",
    "version": 3
   },
   "file_extension": ".py",
   "mimetype": "text/x-python",
   "name": "python",
   "nbconvert_exporter": "python",
   "pygments_lexer": "ipython3",
   "version": "3.7.4"
  }
 },
 "nbformat": 4,
 "nbformat_minor": 4
}
